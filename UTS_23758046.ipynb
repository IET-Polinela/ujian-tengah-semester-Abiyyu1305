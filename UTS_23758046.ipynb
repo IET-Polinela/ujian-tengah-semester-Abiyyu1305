{
  "nbformat": 4,
  "nbformat_minor": 0,
  "metadata": {
    "colab": {
      "provenance": []
    },
    "kernelspec": {
      "name": "python3",
      "display_name": "Python 3"
    },
    "language_info": {
      "name": "python"
    }
  },
  "cells": [
    {
      "cell_type": "code",
      "source": [],
      "metadata": {
        "id": "rdHWgkQeCa8K"
      },
      "execution_count": null,
      "outputs": []
    },
    {
      "cell_type": "code",
      "execution_count": 3,
      "metadata": {
        "colab": {
          "base_uri": "https://localhost:8080/"
        },
        "id": "gVAGZaLaKzUT",
        "outputId": "1aeb11cc-c414-4f74-aada-79dcbf3a564d"
      },
      "outputs": [
        {
          "output_type": "stream",
          "name": "stdout",
          "text": [
            "Mounted at /content/drive\n"
          ]
        }
      ],
      "source": [
        "from google.colab import drive\n",
        "drive.mount('/content/drive')"
      ]
    },
    {
      "cell_type": "code",
      "execution_count": 7,
      "metadata": {
        "colab": {
          "base_uri": "https://localhost:8080/",
          "height": 1000
        },
        "id": "vEhMA34tB24x",
        "outputId": "b6b9ddce-77b2-4fd5-ae8a-33ba24008596"
      },
      "outputs": [
        {
          "output_type": "stream",
          "name": "stdout",
          "text": [
            "5 Data Teratas:\n",
            "      id  gender   age  hypertension  heart_disease ever_married  \\\n",
            "0   9046    Male  67.0             0              1          Yes   \n",
            "1  51676  Female  61.0             0              0          Yes   \n",
            "2  31112    Male  80.0             0              1          Yes   \n",
            "3  60182  Female  49.0             0              0          Yes   \n",
            "4   1665  Female  79.0             1              0          Yes   \n",
            "\n",
            "       work_type Residence_type  avg_glucose_level   bmi   smoking_status  \\\n",
            "0        Private          Urban             228.69  36.6  formerly smoked   \n",
            "1  Self-employed          Rural             202.21   NaN     never smoked   \n",
            "2        Private          Rural             105.92  32.5     never smoked   \n",
            "3        Private          Urban             171.23  34.4           smokes   \n",
            "4  Self-employed          Rural             174.12  24.0     never smoked   \n",
            "\n",
            "   stroke  \n",
            "0       1  \n",
            "1       1  \n",
            "2       1  \n",
            "3       1  \n",
            "4       1  \n",
            "\n",
            "Informasi Dataset:\n",
            "<class 'pandas.core.frame.DataFrame'>\n",
            "RangeIndex: 5110 entries, 0 to 5109\n",
            "Data columns (total 12 columns):\n",
            " #   Column             Non-Null Count  Dtype  \n",
            "---  ------             --------------  -----  \n",
            " 0   id                 5110 non-null   int64  \n",
            " 1   gender             5110 non-null   object \n",
            " 2   age                5110 non-null   float64\n",
            " 3   hypertension       5110 non-null   int64  \n",
            " 4   heart_disease      5110 non-null   int64  \n",
            " 5   ever_married       5110 non-null   object \n",
            " 6   work_type          5110 non-null   object \n",
            " 7   Residence_type     5110 non-null   object \n",
            " 8   avg_glucose_level  5110 non-null   float64\n",
            " 9   bmi                4909 non-null   float64\n",
            " 10  smoking_status     5110 non-null   object \n",
            " 11  stroke             5110 non-null   int64  \n",
            "dtypes: float64(3), int64(4), object(5)\n",
            "memory usage: 479.2+ KB\n",
            "None\n",
            "\n",
            "Cek nilai yang hilang:\n",
            "id                     0\n",
            "gender                 0\n",
            "age                    0\n",
            "hypertension           0\n",
            "heart_disease          0\n",
            "ever_married           0\n",
            "work_type              0\n",
            "Residence_type         0\n",
            "avg_glucose_level      0\n",
            "bmi                  201\n",
            "smoking_status         0\n",
            "stroke                 0\n",
            "dtype: int64\n",
            "\n",
            "Akurasi: 0.9419551934826884\n",
            "\n",
            "Confusion Matrix:\n",
            "[[924   5]\n",
            " [ 52   1]]\n",
            "\n",
            "Classification Report:\n",
            "              precision    recall  f1-score   support\n",
            "\n",
            "           0       0.95      0.99      0.97       929\n",
            "           1       0.17      0.02      0.03        53\n",
            "\n",
            "    accuracy                           0.94       982\n",
            "   macro avg       0.56      0.51      0.50       982\n",
            "weighted avg       0.90      0.94      0.92       982\n",
            "\n",
            "\n",
            "Visualisasi confusion matrix disimpan dalam file 'confusion_matrix_knn.png'\n"
          ]
        },
        {
          "output_type": "display_data",
          "data": {
            "text/plain": [
              "<Figure size 1000x600 with 2 Axes>"
            ],
            "image/png": "[encoded data removed]"
          },
          "metadata": {}
        }
      ],
      "source": [
        "# 1. Import Library yang Dibutuhkan\n",
        "import pandas as pd\n",
        "import numpy as np\n",
        "import matplotlib.pyplot as plt\n",
        "import seaborn as sns\n",
        "from sklearn.model_selection import train_test_split\n",
        "from sklearn.preprocessing import StandardScaler\n",
        "from sklearn.neighbors import KNeighborsClassifier\n",
        "from sklearn.metrics import accuracy_score, confusion_matrix, classification_report\n",
        "\n",
        "# 2. Membaca Dataset\n",
        "df = pd.read_csv(\"sample_data/healthcare-dataset-stroke-data.csv\")\n",
        "\n",
        "# 3. Lihat Ringkasan Awal Data\n",
        "print(\"5 Data Teratas:\")\n",
        "print(df.head())\n",
        "print(\"\\nInformasi Dataset:\")\n",
        "print(df.info())\n",
        "print(\"\\nCek nilai yang hilang:\")\n",
        "print(df.isnull().sum())\n",
        "\n",
        "# 4. Preprocessing dan Encoding Data\n",
        "# Hapus kolom 'id' karena tidak relevan\n",
        "df.drop(columns='id', inplace=True)\n",
        "\n",
        "# Hapus baris dengan nilai NULL (hanya kolom bmi yang punya null)\n",
        "df.dropna(inplace=True)\n",
        "\n",
        "# Encoding data kategorikal\n",
        "df_encoded = pd.get_dummies(df, drop_first=True)\n",
        "\n",
        "# 5. Pisahkan Fitur dan Target\n",
        "X = df_encoded.drop('stroke', axis=1)  # Fitur\n",
        "y = df_encoded['stroke']  # Target\n",
        "\n",
        "# 6. Normalisasi Fitur\n",
        "scaler = StandardScaler()\n",
        "X_scaled = scaler.fit_transform(X)\n",
        "\n",
        "# 7. Pembagian Data (Training dan Testing)\n",
        "X_train, X_test, y_train, y_test = train_test_split(X_scaled, y, test_size=0.2, random_state=42)\n",
        "\n",
        "# 8. Training Model KNN\n",
        "model = KNeighborsClassifier(n_neighbors=5)  # Menggunakan 5 tetangga terdekat\n",
        "model.fit(X_train, y_train)\n",
        "\n",
        "# 9. Prediksi dengan Data Testing\n",
        "y_pred = model.predict(X_test)\n",
        "\n",
        "# 10. Evaluasi Model\n",
        "print(\"\\nAkurasi:\", accuracy_score(y_test, y_pred))\n",
        "print(\"\\nConfusion Matrix:\")\n",
        "print(confusion_matrix(y_test, y_pred))\n",
        "print(\"\\nClassification Report:\")\n",
        "print(classification_report(y_test, y_pred))\n",
        "\n",
        "# 11. Visualisasi dan Simpan sebagai PNG\n",
        "plt.figure(figsize=(10, 6))\n",
        "sns.heatmap(confusion_matrix(y_test, y_pred), annot=True, fmt=\"d\", cmap=\"Blues\", xticklabels=[\"No Stroke\", \"Stroke\"], yticklabels=[\"No Stroke\", \"Stroke\"])\n",
        "plt.title(\"Confusion Matrix - KNN\")\n",
        "plt.xlabel(\"Predicted\")\n",
        "plt.ylabel(\"Actual\")\n",
        "\n",
        "# Simpan visualisasi sebagai PNG\n",
        "plt.savefig(\"confusion_matrix_knn.png\")\n",
        "\n",
        "# Menampilkan pesan bahwa visualisasi telah disimpan\n",
        "print(\"\\nVisualisasi confusion matrix disimpan dalam file 'confusion_matrix_knn.png'\")\n",
        "\n",
        "# Menampilkan visualisasi (opsional)\n",
        "plt.show()\n"
      ]
    }
  ]
}